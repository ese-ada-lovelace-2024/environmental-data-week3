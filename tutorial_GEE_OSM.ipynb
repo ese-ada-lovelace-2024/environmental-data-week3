{
 "cells": [
  {
   "cell_type": "markdown",
   "metadata": {},
   "source": [
    "# Tutorial on `OpenStreetMap` and `Google Earth Engine` Python APIs 🌍🛰️\n",
    "Myriam Prasow-Émond, PhD candidate in Earth Science & Engineering, Imperial College London (m.prasow-emond22@imperial.ac.uk)"
   ]
  },
  {
   "cell_type": "markdown",
   "metadata": {},
   "source": [
    "## Python Environment\n",
    "* Please create the `conda` environment `edsml-rs`, which should work for this tutorial and `open-geo-tutorial`.\n",
    "* Note: this environment might NOT work for advanced machine learning using `tensorflow` and `keras`; you might have to create another environment specifically for this."
   ]
  },
  {
   "cell_type": "markdown",
   "metadata": {},
   "source": [
    "## Import modules"
   ]
  },
  {
   "cell_type": "code",
   "execution_count": 6,
   "metadata": {},
   "outputs": [
    {
     "data": {
      "text/html": [
       "\n",
       "            <style>\n",
       "                .geemap-dark {\n",
       "                    --jp-widgets-color: white;\n",
       "                    --jp-widgets-label-color: white;\n",
       "                    --jp-ui-font-color1: white;\n",
       "                    --jp-layout-color2: #454545;\n",
       "                    background-color: #383838;\n",
       "                }\n",
       "\n",
       "                .geemap-dark .jupyter-button {\n",
       "                    --jp-layout-color3: #383838;\n",
       "                }\n",
       "\n",
       "                .geemap-colab {\n",
       "                    background-color: var(--colab-primary-surface-color, white);\n",
       "                }\n",
       "\n",
       "                .geemap-colab .jupyter-button {\n",
       "                    --jp-layout-color3: var(--colab-primary-surface-color, white);\n",
       "                }\n",
       "            </style>\n",
       "            "
      ],
      "text/plain": [
       "<IPython.core.display.HTML object>"
      ]
     },
     "metadata": {},
     "output_type": "display_data"
    }
   ],
   "source": [
    "import ee # this is the 'earthengine-api' package\n",
    "import matplotlib\n",
    "import matplotlib.pyplot as plt\n",
    "import numpy as np\n",
    "import osmnx as ox # OpenStreetMap API package\n",
    "import shapely # for geometry operations\n",
    "import geopandas as gpd\n",
    "import geemap\n",
    "import requests\n",
    "import os\n",
    "import zipfile\n",
    "import xarray as xr\n",
    "import rasterio\n",
    "from matplotlib.patches import Patch\n",
    "%matplotlib inline \n",
    "# or qt for interactive plots\n",
    "\n",
    "# for LaTeX-like fonts :)\n",
    "matplotlib.rcParams['mathtext.fontset'] = 'stix'\n",
    "matplotlib.rcParams['font.family'] = 'STIXGeneral'"
   ]
  },
  {
   "cell_type": "markdown",
   "metadata": {},
   "source": [
    "# `OpenStreetMap` (OSM) Python API 🌍\n",
    "* `OSM` is an open-access map database collaboratively maintained by a community of users who contribute and update its information (similarly to Wikipedia).\n",
    "* It can be used for a variety of purposes, such as route network analysis (for traffic), GIS analysis, and provide an editable map of the world.\n",
    "* The quality of the data has been investigated in multiple scientific papers (see e.g., https://www.nature.com/articles/s41598-021-82404-z).\n",
    "* `OSMnx` is the Python API for extracting `OSM` data.\n",
    "* Here are some links for further documentation:\n",
    "    * https://www.openstreetmap.org/\n",
    "    * https://osmnx.readthedocs.io/en/stable/\n",
    "    * https://github.com/gboeing/osmnx-examples"
   ]
  },
  {
   "cell_type": "markdown",
   "metadata": {},
   "source": [
    "## Define the area of interest 🔍\n",
    "* There are various methods to query OSM data for a specific location, such as using coordinates (longitude, latitude), a polygon, or a bounding box.\n",
    "* You can also input the name of a place, such as Greater London!"
   ]
  },
  {
   "cell_type": "code",
   "execution_count": 2,
   "metadata": {},
   "outputs": [
    {
     "data": {
      "text/html": [
       "\n",
       "            <style>\n",
       "                .geemap-dark {\n",
       "                    --jp-widgets-color: white;\n",
       "                    --jp-widgets-label-color: white;\n",
       "                    --jp-ui-font-color1: white;\n",
       "                    --jp-layout-color2: #454545;\n",
       "                    background-color: #383838;\n",
       "                }\n",
       "\n",
       "                .geemap-dark .jupyter-button {\n",
       "                    --jp-layout-color3: #383838;\n",
       "                }\n",
       "\n",
       "                .geemap-colab {\n",
       "                    background-color: var(--colab-primary-surface-color, white);\n",
       "                }\n",
       "\n",
       "                .geemap-colab .jupyter-button {\n",
       "                    --jp-layout-color3: var(--colab-primary-surface-color, white);\n",
       "                }\n",
       "            </style>\n",
       "            "
      ],
      "text/plain": [
       "<IPython.core.display.HTML object>"
      ]
     },
     "metadata": {},
     "output_type": "display_data"
    }
   ],
   "source": [
    "# make sure to add as much information so that it queries the right location :)\n",
    "roi = 'Greater London, England, UK'"
   ]
  },
  {
   "cell_type": "markdown",
   "metadata": {},
   "source": [
    "## Define the features of interest, i.e. the **tags** 🔗\n",
    "* The features/tags is what you want to extract, such as the road network, rivers, amenities, etc.\n",
    "* You can find the full list of tags/features here: https://wiki.openstreetmap.org/wiki/Map_features"
   ]
  },
  {
   "cell_type": "code",
   "execution_count": 3,
   "metadata": {},
   "outputs": [
    {
     "data": {
      "text/html": [
       "\n",
       "            <style>\n",
       "                .geemap-dark {\n",
       "                    --jp-widgets-color: white;\n",
       "                    --jp-widgets-label-color: white;\n",
       "                    --jp-ui-font-color1: white;\n",
       "                    --jp-layout-color2: #454545;\n",
       "                    background-color: #383838;\n",
       "                }\n",
       "\n",
       "                .geemap-dark .jupyter-button {\n",
       "                    --jp-layout-color3: #383838;\n",
       "                }\n",
       "\n",
       "                .geemap-colab {\n",
       "                    background-color: var(--colab-primary-surface-color, white);\n",
       "                }\n",
       "\n",
       "                .geemap-colab .jupyter-button {\n",
       "                    --jp-layout-color3: var(--colab-primary-surface-color, white);\n",
       "                }\n",
       "            </style>\n",
       "            "
      ],
      "text/plain": [
       "<IPython.core.display.HTML object>"
      ]
     },
     "metadata": {},
     "output_type": "display_data"
    }
   ],
   "source": [
    "# all the primary roads\n",
    "tags_roads = {'highway': 'primary'}\n",
    "\n",
    "# amenities: universities\n",
    "tags_universities = {'amenity': 'university'}\n",
    "\n",
    "# rivers\n",
    "tags_rivers = {'waterway': 'river'}"
   ]
  },
  {
   "cell_type": "markdown",
   "metadata": {},
   "source": [
    "## Quick example: all rivers in London queries using `OSMnx`"
   ]
  },
  {
   "cell_type": "code",
   "execution_count": 4,
   "metadata": {},
   "outputs": [
    {
     "data": {
      "text/html": [
       "\n",
       "            <style>\n",
       "                .geemap-dark {\n",
       "                    --jp-widgets-color: white;\n",
       "                    --jp-widgets-label-color: white;\n",
       "                    --jp-ui-font-color1: white;\n",
       "                    --jp-layout-color2: #454545;\n",
       "                    background-color: #383838;\n",
       "                }\n",
       "\n",
       "                .geemap-dark .jupyter-button {\n",
       "                    --jp-layout-color3: #383838;\n",
       "                }\n",
       "\n",
       "                .geemap-colab {\n",
       "                    background-color: var(--colab-primary-surface-color, white);\n",
       "                }\n",
       "\n",
       "                .geemap-colab .jupyter-button {\n",
       "                    --jp-layout-color3: var(--colab-primary-surface-color, white);\n",
       "                }\n",
       "            </style>\n",
       "            "
      ],
      "text/plain": [
       "<IPython.core.display.HTML object>"
      ]
     },
     "metadata": {},
     "output_type": "display_data"
    },
    {
     "data": {
      "text/html": [
       "<div>\n",
       "<style scoped>\n",
       "    .dataframe tbody tr th:only-of-type {\n",
       "        vertical-align: middle;\n",
       "    }\n",
       "\n",
       "    .dataframe tbody tr th {\n",
       "        vertical-align: top;\n",
       "    }\n",
       "\n",
       "    .dataframe thead th {\n",
       "        text-align: right;\n",
       "    }\n",
       "</style>\n",
       "<table border=\"1\" class=\"dataframe\">\n",
       "  <thead>\n",
       "    <tr style=\"text-align: right;\">\n",
       "      <th></th>\n",
       "      <th>geometry</th>\n",
       "      <th>bbox_west</th>\n",
       "      <th>bbox_south</th>\n",
       "      <th>bbox_east</th>\n",
       "      <th>bbox_north</th>\n",
       "      <th>place_id</th>\n",
       "      <th>osm_type</th>\n",
       "      <th>osm_id</th>\n",
       "      <th>lat</th>\n",
       "      <th>lon</th>\n",
       "      <th>class</th>\n",
       "      <th>type</th>\n",
       "      <th>place_rank</th>\n",
       "      <th>importance</th>\n",
       "      <th>addresstype</th>\n",
       "      <th>name</th>\n",
       "      <th>display_name</th>\n",
       "    </tr>\n",
       "  </thead>\n",
       "  <tbody>\n",
       "    <tr>\n",
       "      <th>0</th>\n",
       "      <td>POLYGON ((-0.51038 51.46809, -0.51036 51.46795...</td>\n",
       "      <td>-0.510375</td>\n",
       "      <td>51.28676</td>\n",
       "      <td>0.334016</td>\n",
       "      <td>51.691874</td>\n",
       "      <td>257964246</td>\n",
       "      <td>relation</td>\n",
       "      <td>175342</td>\n",
       "      <td>51.489334</td>\n",
       "      <td>-0.144055</td>\n",
       "      <td>boundary</td>\n",
       "      <td>administrative</td>\n",
       "      <td>10</td>\n",
       "      <td>0.671128</td>\n",
       "      <td>state_district</td>\n",
       "      <td>Greater London</td>\n",
       "      <td>Greater London, England, United Kingdom</td>\n",
       "    </tr>\n",
       "  </tbody>\n",
       "</table>\n",
       "</div>"
      ],
      "text/plain": [
       "                                            geometry  bbox_west  bbox_south  \\\n",
       "0  POLYGON ((-0.51038 51.46809, -0.51036 51.46795...  -0.510375    51.28676   \n",
       "\n",
       "   bbox_east  bbox_north   place_id  osm_type  osm_id        lat       lon  \\\n",
       "0   0.334016   51.691874  257964246  relation  175342  51.489334 -0.144055   \n",
       "\n",
       "      class            type  place_rank  importance     addresstype  \\\n",
       "0  boundary  administrative          10    0.671128  state_district   \n",
       "\n",
       "             name                             display_name  \n",
       "0  Greater London  Greater London, England, United Kingdom  "
      ]
     },
     "execution_count": 4,
     "metadata": {},
     "output_type": "execute_result"
    }
   ],
   "source": [
    "# extent of Greater London\n",
    "gdf_London = ox.geocode_to_gdf(roi)\n",
    "gdf_London"
   ]
  },
  {
   "cell_type": "code",
   "execution_count": 5,
   "metadata": {},
   "outputs": [
    {
     "data": {
      "text/html": [
       "\n",
       "            <style>\n",
       "                .geemap-dark {\n",
       "                    --jp-widgets-color: white;\n",
       "                    --jp-widgets-label-color: white;\n",
       "                    --jp-ui-font-color1: white;\n",
       "                    --jp-layout-color2: #454545;\n",
       "                    background-color: #383838;\n",
       "                }\n",
       "\n",
       "                .geemap-dark .jupyter-button {\n",
       "                    --jp-layout-color3: #383838;\n",
       "                }\n",
       "\n",
       "                .geemap-colab {\n",
       "                    background-color: var(--colab-primary-surface-color, white);\n",
       "                }\n",
       "\n",
       "                .geemap-colab .jupyter-button {\n",
       "                    --jp-layout-color3: var(--colab-primary-surface-color, white);\n",
       "                }\n",
       "            </style>\n",
       "            "
      ],
      "text/plain": [
       "<IPython.core.display.HTML object>"
      ]
     },
     "metadata": {},
     "output_type": "display_data"
    },
    {
     "ename": "KeyboardInterrupt",
     "evalue": "",
     "output_type": "error",
     "traceback": [
      "\u001b[1;31m---------------------------------------------------------------------------\u001b[0m",
      "\u001b[1;31mKeyboardInterrupt\u001b[0m                         Traceback (most recent call last)",
      "Cell \u001b[1;32mIn[5], line 2\u001b[0m\n\u001b[0;32m      1\u001b[0m \u001b[38;5;66;03m# features of interest within the extent of Greater London\u001b[39;00m\n\u001b[1;32m----> 2\u001b[0m gdf_roads \u001b[38;5;241m=\u001b[39m \u001b[43mox\u001b[49m\u001b[38;5;241;43m.\u001b[39;49m\u001b[43mfeatures_from_place\u001b[49m\u001b[43m(\u001b[49m\u001b[43mroi\u001b[49m\u001b[43m,\u001b[49m\u001b[43m \u001b[49m\u001b[43mtags_roads\u001b[49m\u001b[43m)\u001b[49m\n\u001b[0;32m      3\u001b[0m gdf_universities \u001b[38;5;241m=\u001b[39m ox\u001b[38;5;241m.\u001b[39mfeatures_from_place(roi, tags_universities)\n\u001b[0;32m      4\u001b[0m gdf_rivers \u001b[38;5;241m=\u001b[39m ox\u001b[38;5;241m.\u001b[39mfeatures_from_place(roi, tags_rivers)\n",
      "File \u001b[1;32mc:\\Users\\myriampe\\anaconda3\\envs\\edsml-rs\\lib\\site-packages\\osmnx\\features.py:279\u001b[0m, in \u001b[0;36mfeatures_from_place\u001b[1;34m(query, tags, which_result)\u001b[0m\n\u001b[0;32m    276\u001b[0m utils\u001b[38;5;241m.\u001b[39mlog(msg, level\u001b[38;5;241m=\u001b[39mlg\u001b[38;5;241m.\u001b[39mINFO)\n\u001b[0;32m    278\u001b[0m \u001b[38;5;66;03m# create GeoDataFrame using this polygon(s) geometry\u001b[39;00m\n\u001b[1;32m--> 279\u001b[0m \u001b[38;5;28;01mreturn\u001b[39;00m \u001b[43mfeatures_from_polygon\u001b[49m\u001b[43m(\u001b[49m\u001b[43mpolygon\u001b[49m\u001b[43m,\u001b[49m\u001b[43m \u001b[49m\u001b[43mtags\u001b[49m\u001b[43m)\u001b[49m\n",
      "File \u001b[1;32mc:\\Users\\myriampe\\anaconda3\\envs\\edsml-rs\\lib\\site-packages\\osmnx\\features.py:332\u001b[0m, in \u001b[0;36mfeatures_from_polygon\u001b[1;34m(polygon, tags)\u001b[0m\n\u001b[0;32m    330\u001b[0m \u001b[38;5;66;03m# retrieve the data from Overpass then turn it into a GeoDataFrame\u001b[39;00m\n\u001b[0;32m    331\u001b[0m response_jsons \u001b[38;5;241m=\u001b[39m _overpass\u001b[38;5;241m.\u001b[39m_download_overpass_features(polygon, tags)\n\u001b[1;32m--> 332\u001b[0m \u001b[38;5;28;01mreturn\u001b[39;00m \u001b[43m_create_gdf\u001b[49m\u001b[43m(\u001b[49m\u001b[43mresponse_jsons\u001b[49m\u001b[43m,\u001b[49m\u001b[43m \u001b[49m\u001b[43mpolygon\u001b[49m\u001b[43m,\u001b[49m\u001b[43m \u001b[49m\u001b[43mtags\u001b[49m\u001b[43m)\u001b[49m\n",
      "File \u001b[1;32mc:\\Users\\myriampe\\anaconda3\\envs\\edsml-rs\\lib\\site-packages\\osmnx\\features.py:427\u001b[0m, in \u001b[0;36m_create_gdf\u001b[1;34m(response_jsons, polygon, tags)\u001b[0m\n\u001b[0;32m    417\u001b[0m \u001b[38;5;66;03m# convert the elements into a GeoDataFrame of features\u001b[39;00m\n\u001b[0;32m    418\u001b[0m gdf \u001b[38;5;241m=\u001b[39m (\n\u001b[0;32m    419\u001b[0m     gpd\u001b[38;5;241m.\u001b[39mGeoDataFrame(\n\u001b[0;32m    420\u001b[0m         data\u001b[38;5;241m=\u001b[39m_process_features(elements, \u001b[38;5;28mset\u001b[39m(tags\u001b[38;5;241m.\u001b[39mkeys())),\n\u001b[1;32m   (...)\u001b[0m\n\u001b[0;32m    425\u001b[0m     \u001b[38;5;241m.\u001b[39msort_index()\n\u001b[0;32m    426\u001b[0m )\n\u001b[1;32m--> 427\u001b[0m \u001b[38;5;28;01mreturn\u001b[39;00m \u001b[43m_filter_features\u001b[49m\u001b[43m(\u001b[49m\u001b[43mgdf\u001b[49m\u001b[43m,\u001b[49m\u001b[43m \u001b[49m\u001b[43mpolygon\u001b[49m\u001b[43m,\u001b[49m\u001b[43m \u001b[49m\u001b[43mtags\u001b[49m\u001b[43m)\u001b[49m\n",
      "File \u001b[1;32mc:\\Users\\myriampe\\anaconda3\\envs\\edsml-rs\\lib\\site-packages\\osmnx\\features.py:696\u001b[0m, in \u001b[0;36m_filter_features\u001b[1;34m(gdf, polygon, tags)\u001b[0m\n\u001b[0;32m    694\u001b[0m     geom_filter \u001b[38;5;241m=\u001b[39m pd\u001b[38;5;241m.\u001b[39mSeries(data\u001b[38;5;241m=\u001b[39m\u001b[38;5;28;01mTrue\u001b[39;00m, index\u001b[38;5;241m=\u001b[39mgdf\u001b[38;5;241m.\u001b[39mindex)\n\u001b[0;32m    695\u001b[0m \u001b[38;5;28;01melse\u001b[39;00m:\n\u001b[1;32m--> 696\u001b[0m     idx \u001b[38;5;241m=\u001b[39m \u001b[43mutils_geo\u001b[49m\u001b[38;5;241;43m.\u001b[39;49m\u001b[43m_intersect_index_quadrats\u001b[49m\u001b[43m(\u001b[49m\u001b[43mgdf\u001b[49m\u001b[43m[\u001b[49m\u001b[38;5;124;43m\"\u001b[39;49m\u001b[38;5;124;43mgeometry\u001b[39;49m\u001b[38;5;124;43m\"\u001b[39;49m\u001b[43m]\u001b[49m\u001b[43m,\u001b[49m\u001b[43m \u001b[49m\u001b[43mpolygon\u001b[49m\u001b[43m)\u001b[49m\n\u001b[0;32m    697\u001b[0m     geom_filter \u001b[38;5;241m=\u001b[39m gdf\u001b[38;5;241m.\u001b[39mindex\u001b[38;5;241m.\u001b[39misin(idx)\n\u001b[0;32m    699\u001b[0m \u001b[38;5;66;03m# retain rows that have any of their tag filters satisfied\u001b[39;00m\n",
      "File \u001b[1;32mc:\\Users\\myriampe\\anaconda3\\envs\\edsml-rs\\lib\\site-packages\\osmnx\\utils_geo.py:265\u001b[0m, in \u001b[0;36m_intersect_index_quadrats\u001b[1;34m(geoms, polygon)\u001b[0m\n\u001b[0;32m    263\u001b[0m         possible_matches_iloc \u001b[38;5;241m=\u001b[39m rtree\u001b[38;5;241m.\u001b[39mintersection(poly_buff\u001b[38;5;241m.\u001b[39mbounds)\n\u001b[0;32m    264\u001b[0m         possible_matches \u001b[38;5;241m=\u001b[39m geoms\u001b[38;5;241m.\u001b[39miloc[\u001b[38;5;28mlist\u001b[39m(possible_matches_iloc)]\n\u001b[1;32m--> 265\u001b[0m         precise_matches \u001b[38;5;241m=\u001b[39m possible_matches[\u001b[43mpossible_matches\u001b[49m\u001b[38;5;241;43m.\u001b[39;49m\u001b[43mintersects\u001b[49m\u001b[43m(\u001b[49m\u001b[43mpoly_buff\u001b[49m\u001b[43m)\u001b[49m]\n\u001b[0;32m    266\u001b[0m         geoms_in_poly\u001b[38;5;241m.\u001b[39mupdate(precise_matches\u001b[38;5;241m.\u001b[39mindex)\n\u001b[0;32m    268\u001b[0m msg \u001b[38;5;241m=\u001b[39m \u001b[38;5;124mf\u001b[39m\u001b[38;5;124m\"\u001b[39m\u001b[38;5;124mIdentified \u001b[39m\u001b[38;5;132;01m{\u001b[39;00m\u001b[38;5;28mlen\u001b[39m(geoms_in_poly)\u001b[38;5;132;01m:\u001b[39;00m\u001b[38;5;124m,\u001b[39m\u001b[38;5;132;01m}\u001b[39;00m\u001b[38;5;124m geometries inside polygon\u001b[39m\u001b[38;5;124m\"\u001b[39m\n",
      "File \u001b[1;32mc:\\Users\\myriampe\\anaconda3\\envs\\edsml-rs\\lib\\site-packages\\geopandas\\base.py:3106\u001b[0m, in \u001b[0;36mGeoPandasBase.intersects\u001b[1;34m(self, other, align)\u001b[0m\n\u001b[0;32m   2997\u001b[0m \u001b[38;5;28;01mdef\u001b[39;00m\u001b[38;5;250m \u001b[39m\u001b[38;5;21mintersects\u001b[39m(\u001b[38;5;28mself\u001b[39m, other, align\u001b[38;5;241m=\u001b[39m\u001b[38;5;28;01mNone\u001b[39;00m):\n\u001b[0;32m   2998\u001b[0m \u001b[38;5;250m    \u001b[39m\u001b[38;5;124;03m\"\"\"Returns a ``Series`` of ``dtype('bool')`` with value ``True`` for\u001b[39;00m\n\u001b[0;32m   2999\u001b[0m \u001b[38;5;124;03m    each aligned geometry that intersects `other`.\u001b[39;00m\n\u001b[0;32m   3000\u001b[0m \n\u001b[1;32m   (...)\u001b[0m\n\u001b[0;32m   3104\u001b[0m \u001b[38;5;124;03m    GeoSeries.intersection\u001b[39;00m\n\u001b[0;32m   3105\u001b[0m \u001b[38;5;124;03m    \"\"\"\u001b[39;00m\n\u001b[1;32m-> 3106\u001b[0m     \u001b[38;5;28;01mreturn\u001b[39;00m \u001b[43m_binary_op\u001b[49m\u001b[43m(\u001b[49m\u001b[38;5;124;43m\"\u001b[39;49m\u001b[38;5;124;43mintersects\u001b[39;49m\u001b[38;5;124;43m\"\u001b[39;49m\u001b[43m,\u001b[49m\u001b[43m \u001b[49m\u001b[38;5;28;43mself\u001b[39;49m\u001b[43m,\u001b[49m\u001b[43m \u001b[49m\u001b[43mother\u001b[49m\u001b[43m,\u001b[49m\u001b[43m \u001b[49m\u001b[43malign\u001b[49m\u001b[43m)\u001b[49m\n",
      "File \u001b[1;32mc:\\Users\\myriampe\\anaconda3\\envs\\edsml-rs\\lib\\site-packages\\geopandas\\base.py:76\u001b[0m, in \u001b[0;36m_binary_op\u001b[1;34m(op, this, other, align, *args, **kwargs)\u001b[0m\n\u001b[0;32m     73\u001b[0m \u001b[38;5;28;01mdef\u001b[39;00m\u001b[38;5;250m \u001b[39m\u001b[38;5;21m_binary_op\u001b[39m(op, this, other, align, \u001b[38;5;241m*\u001b[39margs, \u001b[38;5;241m*\u001b[39m\u001b[38;5;241m*\u001b[39mkwargs):\n\u001b[0;32m     74\u001b[0m     \u001b[38;5;66;03m# type: (str, GeoSeries, GeoSeries, args/kwargs) -> Series[bool/float]\u001b[39;00m\n\u001b[0;32m     75\u001b[0m \u001b[38;5;250m    \u001b[39m\u001b[38;5;124;03m\"\"\"Binary operation on GeoSeries objects that returns a Series\"\"\"\u001b[39;00m\n\u001b[1;32m---> 76\u001b[0m     data, index \u001b[38;5;241m=\u001b[39m _delegate_binary_method(op, this, other, align, \u001b[38;5;241m*\u001b[39margs, \u001b[38;5;241m*\u001b[39m\u001b[38;5;241m*\u001b[39mkwargs)\n\u001b[0;32m     77\u001b[0m     \u001b[38;5;28;01mreturn\u001b[39;00m Series(data, index\u001b[38;5;241m=\u001b[39mindex)\n",
      "File \u001b[1;32mc:\\Users\\myriampe\\anaconda3\\envs\\edsml-rs\\lib\\site-packages\\geopandas\\base.py:60\u001b[0m, in \u001b[0;36m_delegate_binary_method\u001b[1;34m(op, this, other, align, *args, **kwargs)\u001b[0m\n\u001b[0;32m     57\u001b[0m \u001b[38;5;28;01melse\u001b[39;00m:\n\u001b[0;32m     58\u001b[0m     \u001b[38;5;28;01mraise\u001b[39;00m \u001b[38;5;167;01mTypeError\u001b[39;00m(\u001b[38;5;28mtype\u001b[39m(this), \u001b[38;5;28mtype\u001b[39m(other))\n\u001b[1;32m---> 60\u001b[0m data \u001b[38;5;241m=\u001b[39m \u001b[38;5;28mgetattr\u001b[39m(a_this, op)(other, \u001b[38;5;241m*\u001b[39margs, \u001b[38;5;241m*\u001b[39m\u001b[38;5;241m*\u001b[39mkwargs)\n\u001b[0;32m     61\u001b[0m \u001b[38;5;28;01mreturn\u001b[39;00m data, this\u001b[38;5;241m.\u001b[39mindex\n",
      "File \u001b[1;32mc:\\Users\\myriampe\\anaconda3\\envs\\edsml-rs\\lib\\site-packages\\geopandas\\array.py:723\u001b[0m, in \u001b[0;36mGeometryArray.intersects\u001b[1;34m(self, other)\u001b[0m\n\u001b[0;32m    722\u001b[0m \u001b[38;5;28;01mdef\u001b[39;00m\u001b[38;5;250m \u001b[39m\u001b[38;5;21mintersects\u001b[39m(\u001b[38;5;28mself\u001b[39m, other):\n\u001b[1;32m--> 723\u001b[0m     \u001b[38;5;28;01mreturn\u001b[39;00m \u001b[38;5;28;43mself\u001b[39;49m\u001b[38;5;241;43m.\u001b[39;49m\u001b[43m_binary_method\u001b[49m\u001b[43m(\u001b[49m\u001b[38;5;124;43m\"\u001b[39;49m\u001b[38;5;124;43mintersects\u001b[39;49m\u001b[38;5;124;43m\"\u001b[39;49m\u001b[43m,\u001b[49m\u001b[43m \u001b[49m\u001b[38;5;28;43mself\u001b[39;49m\u001b[43m,\u001b[49m\u001b[43m \u001b[49m\u001b[43mother\u001b[49m\u001b[43m)\u001b[49m\n",
      "File \u001b[1;32mc:\\Users\\myriampe\\anaconda3\\envs\\edsml-rs\\lib\\site-packages\\geopandas\\array.py:699\u001b[0m, in \u001b[0;36mGeometryArray._binary_method\u001b[1;34m(op, left, right, **kwargs)\u001b[0m\n\u001b[0;32m    696\u001b[0m         _crs_mismatch_warn(left, right, stacklevel\u001b[38;5;241m=\u001b[39m\u001b[38;5;241m7\u001b[39m)\n\u001b[0;32m    697\u001b[0m     right \u001b[38;5;241m=\u001b[39m right\u001b[38;5;241m.\u001b[39m_data\n\u001b[1;32m--> 699\u001b[0m \u001b[38;5;28;01mreturn\u001b[39;00m \u001b[38;5;28mgetattr\u001b[39m(shapely, op)(left\u001b[38;5;241m.\u001b[39m_data, right, \u001b[38;5;241m*\u001b[39m\u001b[38;5;241m*\u001b[39mkwargs)\n",
      "File \u001b[1;32mc:\\Users\\myriampe\\anaconda3\\envs\\edsml-rs\\lib\\site-packages\\shapely\\decorators.py:77\u001b[0m, in \u001b[0;36mmultithreading_enabled.<locals>.wrapped\u001b[1;34m(*args, **kwargs)\u001b[0m\n\u001b[0;32m     75\u001b[0m     \u001b[38;5;28;01mfor\u001b[39;00m arr \u001b[38;5;129;01min\u001b[39;00m array_args:\n\u001b[0;32m     76\u001b[0m         arr\u001b[38;5;241m.\u001b[39mflags\u001b[38;5;241m.\u001b[39mwriteable \u001b[38;5;241m=\u001b[39m \u001b[38;5;28;01mFalse\u001b[39;00m\n\u001b[1;32m---> 77\u001b[0m     \u001b[38;5;28;01mreturn\u001b[39;00m func(\u001b[38;5;241m*\u001b[39margs, \u001b[38;5;241m*\u001b[39m\u001b[38;5;241m*\u001b[39mkwargs)\n\u001b[0;32m     78\u001b[0m \u001b[38;5;28;01mfinally\u001b[39;00m:\n\u001b[0;32m     79\u001b[0m     \u001b[38;5;28;01mfor\u001b[39;00m arr, old_flag \u001b[38;5;129;01min\u001b[39;00m \u001b[38;5;28mzip\u001b[39m(array_args, old_flags):\n",
      "File \u001b[1;32mc:\\Users\\myriampe\\anaconda3\\envs\\edsml-rs\\lib\\site-packages\\shapely\\predicates.py:778\u001b[0m, in \u001b[0;36mintersects\u001b[1;34m(a, b, **kwargs)\u001b[0m\n\u001b[0;32m    747\u001b[0m \u001b[38;5;129m@multithreading_enabled\u001b[39m\n\u001b[0;32m    748\u001b[0m \u001b[38;5;28;01mdef\u001b[39;00m\u001b[38;5;250m \u001b[39m\u001b[38;5;21mintersects\u001b[39m(a, b, \u001b[38;5;241m*\u001b[39m\u001b[38;5;241m*\u001b[39mkwargs):\n\u001b[0;32m    749\u001b[0m \u001b[38;5;250m    \u001b[39m\u001b[38;5;124;03m\"\"\"Returns True if A and B share any portion of space.\u001b[39;00m\n\u001b[0;32m    750\u001b[0m \n\u001b[0;32m    751\u001b[0m \u001b[38;5;124;03m    Intersects implies that overlaps, touches, covers, or within are True.\u001b[39;00m\n\u001b[1;32m   (...)\u001b[0m\n\u001b[0;32m    776\u001b[0m \u001b[38;5;124;03m    False\u001b[39;00m\n\u001b[0;32m    777\u001b[0m \u001b[38;5;124;03m    \"\"\"\u001b[39;00m\n\u001b[1;32m--> 778\u001b[0m     \u001b[38;5;28;01mreturn\u001b[39;00m lib\u001b[38;5;241m.\u001b[39mintersects(a, b, \u001b[38;5;241m*\u001b[39m\u001b[38;5;241m*\u001b[39mkwargs)\n",
      "\u001b[1;31mKeyboardInterrupt\u001b[0m: "
     ]
    }
   ],
   "source": [
    "# features of interest within the extent of Greater London\n",
    "gdf_roads = ox.features_from_place(roi, tags_roads)\n",
    "gdf_universities = ox.features_from_place(roi, tags_universities)\n",
    "gdf_rivers = ox.features_from_place(roi, tags_rivers)\n",
    "\n",
    "gdf_roads"
   ]
  },
  {
   "cell_type": "markdown",
   "metadata": {},
   "source": [
    "### Quick plot"
   ]
  },
  {
   "cell_type": "code",
   "execution_count": null,
   "metadata": {},
   "outputs": [],
   "source": [
    "fig, ax = plt.subplots(figsize=(10, 10))\n",
    "\n",
    "# plot the data\n",
    "gdf_London.plot(ax=ax, color='k')\n",
    "gdf_roads.plot(ax=ax, color='red')\n",
    "gdf_universities.plot(ax=ax, color='green')\n",
    "gdf_rivers.plot(ax=ax, color='blue')\n",
    "\n",
    "# custom legend\n",
    "legend_elements = [\n",
    "    Patch(facecolor='black', edgecolor='black', label='Greater London'),\n",
    "    Patch(facecolor='red', edgecolor='red', label='Primary roads'),\n",
    "    Patch(facecolor='green', edgecolor='green', label='Universities'),\n",
    "    Patch(facecolor='blue', edgecolor='blue', label='Rivers'),\n",
    "]\n",
    "\n",
    "# aesthetics\n",
    "ax.legend(handles=legend_elements, fontsize=15)\n",
    "ax.axis('off')\n",
    "\n",
    "plt.show()\n"
   ]
  },
  {
   "cell_type": "markdown",
   "metadata": {},
   "source": [
    "## Python `class` for calculating the distance between `OSM` features and a grid"
   ]
  },
  {
   "cell_type": "code",
   "execution_count": null,
   "metadata": {},
   "outputs": [],
   "source": [
    "class DistanceGridCalculator:\n",
    "    def __init__(self, roi:str, crs:int=4326):\n",
    "        \"\"\"\n",
    "        Initialise the class with a region of interest.\n",
    "        \n",
    "        Parameters:\n",
    "            roi (str): The region of interest, e.g., 'Greater London, England, UK'.\n",
    "            crs (int): The coordinate reference system for calculations.\n",
    "        \"\"\"\n",
    "        self.roi = roi\n",
    "        self.crs = crs\n",
    "        # define the extent of the region of interest in projected coordinates\n",
    "        self.extent_roi = ox.geocode_to_gdf(self.roi).to_crs(f'EPSG:{self.crs}')\n",
    "\n",
    "    def create_meshgrid(self, n:int=10):\n",
    "        \"\"\"\n",
    "        Create a meshgrid over the extent of the region of interest.\n",
    "        \n",
    "        Parameters:\n",
    "            n (int): Size of the meshgrid.\n",
    "        \n",
    "        Returns:\n",
    "            GeoDataFrame: Points generated from the meshgrid.\n",
    "        \"\"\"\n",
    "        # create a meshgrid using the bounding box of the GeoDataFrame\n",
    "        minx, miny, maxx, maxy = self.extent_roi.total_bounds\n",
    "        x = np.linspace(minx, maxx, n)\n",
    "        y = np.linspace(miny, maxy, n)\n",
    "        self.X, self.Y = np.meshgrid(x, y)\n",
    "\n",
    "        # create a GeoDataFrame from the meshgrid\n",
    "        points = gpd.GeoDataFrame(\n",
    "            geometry=[shapely.geometry.Point(px, py) for px, py in zip(self.X.ravel(), self.Y.ravel())],\n",
    "            crs=f\"EPSG:{self.crs}\",\n",
    "        )\n",
    "        return points\n",
    "\n",
    "    def create_meshgrid_from_image(self, image:xr.DataArray, scale:int=10):\n",
    "\n",
    "        \"\"\"\n",
    "        Create a meshgrid of points in latitude and longitude from an xarray DataArray.\n",
    "        \n",
    "        Parameters:\n",
    "            image (xr.DataArray): The input image with lat/lon coordinates.\n",
    "            scale (int): Factor by which to reduce the resolution of the grid.\n",
    "            \n",
    "        Returns:\n",
    "            gpd.GeoDataFrame: Points generated from the meshgrid in lat/lon coordinates.\n",
    "        \"\"\"\n",
    "        # extract latitude and longitude coordinates\n",
    "        lat = image[\"lat\"].values\n",
    "        lon = image[\"lon\"].values\n",
    "\n",
    "        # create a meshgrid\n",
    "        self.X, self.Y = np.meshgrid(lon, lat)\n",
    "\n",
    "        # create a GeoDataFrame from the meshgrid\n",
    "        points = gpd.GeoDataFrame(\n",
    "            geometry=[shapely.geometry.Point(lon, lat) for lon, lat in zip(self.X.ravel(), self.Y.ravel())],\n",
    "            crs=image.attrs.get(\"crs\", \"EPSG:4326\"),  # Default to WGS84 if CRS is not in the attributes\n",
    "        )\n",
    "\n",
    "        return points\n",
    "\n",
    "\n",
    "    def compute_distance_grid(self, points_gdf:gpd.GeoDataFrame, feature_gdf:gpd.GeoDataFrame, mask:bool=True):\n",
    "        \"\"\"\n",
    "        Compute a distance grid for a feature within the given extent.\n",
    "        \n",
    "        Parameters:\n",
    "            points_gdf (GeoDataFrame): Points from the meshgrid.\n",
    "            feature_gdf (GeoDataFrame): Features (e.g., rivers, roads) to compute distances from.\n",
    "        \n",
    "        Returns:\n",
    "            np.ndarray: Distance grid with distances in meters\n",
    "        \"\"\"\n",
    "        if mask:\n",
    "            # mask points outside the geometry of interest\n",
    "            mask = points_gdf.geometry.within(self.extent_roi.union_all())\n",
    "\n",
    "            points_within = points_gdf[mask]\n",
    "\n",
    "            # compute distances for points within the mask (vectorized)\n",
    "            distances = points_within.geometry.apply(lambda point: feature_gdf.distance(point).min())\n",
    "\n",
    "            # store distances in a grid\n",
    "            distances_grid = np.full(self.X.shape, np.nan)\n",
    "            distances_grid.ravel()[mask] = distances.values\n",
    "        \n",
    "        else:\n",
    "            # compute distances for all points (vectorized)\n",
    "            distances = points_gdf.geometry.apply(lambda point: feature_gdf.distance(point).min())\n",
    "\n",
    "            # store distances in a grid\n",
    "            distances_grid = np.full(self.X.shape, np.nan)\n",
    "            distances_grid.ravel()[:] = distances.values\n",
    "\n",
    "        return distances_grid\n",
    "\n",
    "    def plot_grid(self, distances_grid, features, labels, cmap='plasma', colorbar_label='Distance (m)', figsize=(10, 10)):\n",
    "        \"\"\"\n",
    "        Plot the distance grid along with features and extent.\n",
    "        \n",
    "        Parameters:\n",
    "            distances_grid (np.ndarray): Distance grid to plot.\n",
    "            features (list): List of GeoDataFrames for features to plot.\n",
    "            labels (list): Labels corresponding to the features.\n",
    "            cmap (str): Colormap for the grid.\n",
    "            colorbar_label (str): Label for the colorbar.\n",
    "            figsize (tuple): Size of the figure.\n",
    "        \"\"\"\n",
    "        fig, ax = plt.subplots(figsize=figsize)\n",
    "\n",
    "        # plot distance grid\n",
    "        minx, miny, maxx, maxy = self.extent_roi.total_bounds\n",
    "        cf = ax.imshow(distances_grid, cmap=cmap, extent=[minx, maxx, miny, maxy], origin='lower')\n",
    "\n",
    "        # plot features\n",
    "        for feature, label in zip(features, labels):\n",
    "            feature.plot(ax=ax, alpha=0.7, edgecolor='black', facecolor='none', legend=True, label=label)\n",
    "        \n",
    "        # aesthetics\n",
    "        ax.legend(handles=legend_elements, fontsize=15)\n",
    "\n",
    "        # add colorbar\n",
    "        cbar = plt.colorbar(cf, ax=ax, label=colorbar_label)\n",
    "        cbar.ax.tick_params(labelsize=15)\n",
    "        cbar.ax.set_ylabel(colorbar_label, fontsize=20)\n",
    "\n",
    "        # aesthetics\n",
    "        ax.legend(fontsize=15)\n",
    "        ax.axis('off')\n",
    "        plt.show()"
   ]
  },
  {
   "cell_type": "markdown",
   "metadata": {},
   "source": [
    "### Example: map of distance from rivers, roads and universities across Greater London"
   ]
  },
  {
   "cell_type": "code",
   "execution_count": null,
   "metadata": {},
   "outputs": [],
   "source": [
    "# initialise the class with the region of interest\n",
    "calculator = DistanceGridCalculator(roi, crs=3395)\n",
    "\n",
    "# create a grid of points (80x80)\n",
    "points_gdf = calculator.create_meshgrid(n=100)\n",
    "\n",
    "# query features\n",
    "osm_features_rivers = ox.features_from_place(calculator.roi, tags={'waterway': 'river'}).to_crs(f'EPSG:{calculator.crs}')\n",
    "osm_features_primaryroads = ox.features_from_place(calculator.roi, tags={'highway': 'primary'}).to_crs(f'EPSG:{calculator.crs}')\n",
    "osm_features_universities = ox.features_from_place(calculator.roi, tags={'amenity': 'university'}).to_crs(f'EPSG:{calculator.crs}')\n",
    "\n",
    "# compute distance grids\n",
    "distances_grid_rivers = calculator.compute_distance_grid(points_gdf, osm_features_rivers)\n",
    "distances_grid_primaryroads = calculator.compute_distance_grid(points_gdf, osm_features_primaryroads)\n",
    "distances_grid_universities = calculator.compute_distance_grid(points_gdf, osm_features_universities)"
   ]
  },
  {
   "cell_type": "markdown",
   "metadata": {},
   "source": [
    "### Plot the results"
   ]
  },
  {
   "cell_type": "code",
   "execution_count": null,
   "metadata": {},
   "outputs": [],
   "source": [
    "calculator.plot_grid(\n",
    "    distances_grid_rivers / 1000,\n",
    "    features=[osm_features_rivers, calculator.extent_roi],\n",
    "    labels=['Rivers', 'Greater London'],\n",
    "    colorbar_label='Distance to nearest river (km)'                                                        \n",
    ")\n",
    "\n",
    "calculator.plot_grid(\n",
    "    distances_grid_primaryroads / 1000,\n",
    "    features=[osm_features_primaryroads, calculator.extent_roi],\n",
    "    labels=['Primary Roads', 'Greater London'],\n",
    "    colorbar_label='Distance to nearest primary road (km)'\n",
    ")\n",
    "\n",
    "calculator.plot_grid(\n",
    "    distances_grid_universities / 1000,\n",
    "    features=[osm_features_universities, calculator.extent_roi],                           \n",
    "    labels=['Universities', 'Greater London'],\n",
    "    colorbar_label='Distance to nearest university (km)'\n",
    ")"
   ]
  },
  {
   "cell_type": "markdown",
   "metadata": {},
   "source": [
    "# `Google Earth Engine` (GEE) Python API 🛰️\n",
    "* GEE is a cloud-based platform for environmental data analysis. \n",
    "* It provides access to archives of satellite imagery and geospatial datasets, such as the Sentinel and Landsat missions.\n",
    "* Here is the official tutorial from the developers: https://developers.google.com/earth-engine/tutorials/community/intro-to-python-api"
   ]
  },
  {
   "cell_type": "markdown",
   "metadata": {},
   "source": [
    "## Authenticate to GEE\n",
    "* It will prompt a Google webpage where you will need to input a `Gmail` account.\n",
    "* Then you will have to copy-paste an authentification code into your `IDE` (I am using `VSCode`)."
   ]
  },
  {
   "cell_type": "code",
   "execution_count": null,
   "metadata": {},
   "outputs": [],
   "source": [
    "try:\n",
    "    ee.Initialize()\n",
    "\n",
    "except Exception as e:\n",
    "    ee.Authenticate()\n",
    "    ee.Initialize()"
   ]
  },
  {
   "cell_type": "markdown",
   "metadata": {},
   "source": [
    "## Find collection of interest 📚\n",
    "* Consult this website to see all the collections available on GEE, including climate and weather, imagery, and geophysical data: https://developers.google.com/earth-engine/datasets. \n",
    "* As mentioned in the GEE documentation, there are 3 types of datasets:\n",
    "    * `ee.Feature` $\\rightarrow$ typically a list of properties of an area, such as the name of the area.\n",
    "    * `ee.Image` $\\rightarrow$ 'one-off' datasets (i.e., not temporally-dependent) such as ground elevation. Images can have multiple bands.\n",
    "    * `ee.Collections` $\\rightarrow$ groups of features or images, such as images of a region taken a different times."
   ]
  },
  {
   "cell_type": "code",
   "execution_count": null,
   "metadata": {},
   "outputs": [],
   "source": [
    "# Sentinel-2 image collection (Top-of-Atmosphere reflectance)\n",
    "ic_S2 = ee.ImageCollection('COPERNICUS/S2_HARMONIZED')\n",
    "\n",
    "# Landsat-8 image collection (Tier 1 Top-of-Atmosphere reflectance)\n",
    "ic_L8 = ee.ImageCollection(\"LANDSAT/LC08/C02/T1_TOA\")\n",
    "\n",
    "# MODIS image collection (MOD09GA, Terra)\n",
    "ic_MODIS = ee.ImageCollection(\"MODIS/061/MOD09GA\")\n",
    "\n",
    "# USGS ground elevation image\n",
    "elv = ee.Image('USGS/SRTMGL1_003') # careful: this is an image, not an image collection"
   ]
  },
  {
   "cell_type": "markdown",
   "metadata": {},
   "source": [
    "## Define the **time period** and filter the image collection 🕜"
   ]
  },
  {
   "cell_type": "code",
   "execution_count": null,
   "metadata": {},
   "outputs": [],
   "source": [
    "# start date\n",
    "start_date = '2021-01-01'\n",
    "\n",
    "# end date\n",
    "end_date = '2021-12-31'\n",
    "\n",
    "# filter the image collection by date\n",
    "ic_S2_timefiltered = ic_S2.filterDate(start_date, end_date)\n",
    "ic_L8_timefiltered = ic_L8.filterDate(start_date, end_date) \n",
    "ic_MODIS_timefiltered = ic_MODIS.filterDate(start_date, end_date)"
   ]
  },
  {
   "cell_type": "markdown",
   "metadata": {},
   "source": [
    "## Define the **region of interest**"
   ]
  },
  {
   "cell_type": "markdown",
   "metadata": {},
   "source": [
    "### Manually 🔧\n",
    "* You can go on Google Maps and copy-paste the coordinates `(longitude, latitude)` from your area of interest.\n",
    "* ⚠️Careful⚠️ $\\rightarrow$ the format on Google Maps is `(latitude, longitude)`, so make sure to reverse them!"
   ]
  },
  {
   "cell_type": "code",
   "execution_count": null,
   "metadata": {},
   "outputs": [],
   "source": [
    "# point of interest (middle of Hyde Park)\n",
    "latitude_HP, longitude_HP = 51.50800123106138, -0.17062550540916185\n",
    "ee_point_HP = ee.Geometry.Point([longitude_HP, latitude_HP])\n",
    "\n",
    "# polygon of interest\n",
    "spatial_var = 0.01 # add a buffer of 0.01 degrees\n",
    "ee_polygon_HP = ee.Geometry.Polygon(\n",
    "    [[longitude_HP - spatial_var, latitude_HP - spatial_var],\n",
    "     [longitude_HP + spatial_var, latitude_HP - spatial_var],\n",
    "     [longitude_HP + spatial_var, latitude_HP + spatial_var],\n",
    "     [longitude_HP - spatial_var, latitude_HP + spatial_var]]\n",
    ")"
   ]
  },
  {
   "cell_type": "markdown",
   "metadata": {},
   "source": [
    "### Using `OpenStreetMap` 🌍\n",
    "* Conveniently, we just learned about this! You can easily query geospatial information from your area of interest, such as the coordinates, polygon and bounding box.\n",
    "* `OpenStreetMap` is also very useful if you want to automate your code. For example, in my work which involves thousand of islands, it's much more convenient to query from OSM rather than copy-pasting the coordinates from Google Maps for each island."
   ]
  },
  {
   "cell_type": "code",
   "execution_count": null,
   "metadata": {},
   "outputs": [],
   "source": [
    "aoi = 'Hulhudhoo, Maldives' # one of the islands that I study :)\n",
    "\n",
    "# query geocode from OpenStreetMap\n",
    "aoi_gdf = ox.geocode_to_gdf(aoi)\n",
    "\n",
    "# point of longitude and latitude\n",
    "ee_point_island = ee.Geometry.Point(aoi_gdf.lon.values[0], aoi_gdf.lat.values[0])\n",
    "\n",
    "# polygon of the region of interest\n",
    "box_coords = aoi_gdf.total_bounds\n",
    "spatial_var = 0.001 # add a buffer of 0.001 degrees\n",
    "ee_polygon_island = ee.Geometry.Polygon(\n",
    "    [[\n",
    "        [box_coords[0] - spatial_var, box_coords[1] - spatial_var],\n",
    "        [box_coords[2] + spatial_var, box_coords[1] - spatial_var],\n",
    "        [box_coords[2] + spatial_var, box_coords[3] + spatial_var],\n",
    "        [box_coords[0] - spatial_var, box_coords[3] + spatial_var],\n",
    "        [box_coords[0] - spatial_var, box_coords[1] - spatial_var]\n",
    "    ]]\n",
    ")"
   ]
  },
  {
   "cell_type": "markdown",
   "metadata": {},
   "source": [
    "### Filter the image collection by location\n",
    "* `.filterBounds()` will select the data tile (i.e., the correspond 'box' in the data grid) that contains the area of interest. So the result will be the entire tile, not just the polygon itself.\n",
    "* `.clip()` will crop an `ee.Image` (not an `ee.ImageCollection`) around the polygon."
   ]
  },
  {
   "cell_type": "code",
   "execution_count": null,
   "metadata": {},
   "outputs": [],
   "source": [
    "# filter the image collection by location (Hyde Park)\n",
    "ic_S2_locfiltered_HP = ic_S2.filterBounds(ee_polygon_HP)\n",
    "ic_L8_locfiltered_HP = ic_L8.filterBounds(ee_polygon_HP)\n",
    "ic_MODIS_locfiltered_HP = ic_MODIS.filterBounds(ee_polygon_HP)\n",
    "\n",
    "# filter the image collection by location (island)\n",
    "ic_S2_locfiltered_island = ic_S2.filterBounds(ee_polygon_island)\n",
    "ic_L8_locfiltered_island = ic_L8.filterBounds(ee_polygon_island)\n",
    "ic_MODIS_locfiltered_island = ic_MODIS.filterBounds(ee_polygon_island)"
   ]
  },
  {
   "cell_type": "markdown",
   "metadata": {},
   "source": [
    "## Sort or filter by cloud cover ☁️\n",
    "* In reality, most remote sensing images are imperfect! And the biggest culprit is cloud cover.\n",
    "* You can **sort** the image collection by the percentage of cloud cover using `.sort('CLOUDY_PIXEL_PERCENTAGE')` (Sentinel-2) or `.sort('CLOUD_COVER')` (Landsat) so that the first `Image` of the `ImageCollection` is cloud-free.\n",
    "* You can also **filter** the data by the percentage of cloud cover using e.g. `.filter(ee.Filter.eq('CLOUD_COVER', 20))` which will remove all images with more than 20% cloud cover.\n",
    "* `.sort()` or `.filter()` can also be used to crop or filter the `ImageCollection` by other features or metadata."
   ]
  },
  {
   "cell_type": "code",
   "execution_count": null,
   "metadata": {},
   "outputs": [],
   "source": [
    "# sort the image collection by cloud cover\n",
    "ic_S2_sorted = ic_S2.sort('CLOUDY_PIXEL_PERCENTAGE')\n",
    "ic_L8_sorted = ic_L8.sort('CLOUD_COVER')\n",
    "ic_MODIS_sorted = ic_MODIS.sort('CLOUD_COVER')\n",
    "\n",
    "# filter the image collection by cloud cover\n",
    "ic_S2_cloudfiltered = ic_S2.filter(ee.Filter.eq('CLOUDY_PIXEL_PERCENTAGE', 20))\n",
    "ic_L8_cloudfiltered = ic_L8.filter(ee.Filter.eq('CLOUD_COVER', 20))\n",
    "ic_MODIS_cloudfiltered = ic_MODIS.filter(ee.Filter.eq('CLOUD_COVER', 20))"
   ]
  },
  {
   "cell_type": "markdown",
   "metadata": {},
   "source": [
    "## Display an image using `geemap` 📷"
   ]
  },
  {
   "cell_type": "markdown",
   "metadata": {},
   "source": [
    "### Select an image\n",
    "* `.first()` selects the first `Image` in the `ImageCollection`."
   ]
  },
  {
   "cell_type": "code",
   "execution_count": null,
   "metadata": {},
   "outputs": [],
   "source": [
    "# filter/sort the original image collection by time, location, and cloud cover\n",
    "ic_S2_filtered_HP = ic_S2.filterBounds(ee_polygon_HP).filterDate(start_date, end_date).sort('CLOUDY_PIXEL_PERCENTAGE')\n",
    "ic_L8_filtered_HP = ic_L8.filterBounds(ee_polygon_HP).filterDate(start_date, end_date).sort('CLOUD_COVER')\n",
    "ic_MODIS_filtered_HP = ic_MODIS.filterBounds(ee_polygon_HP).filterDate(start_date, end_date).sort('CLOUD_COVER')\n",
    "\n",
    "ic_S2_filtered_island = ic_S2.filterBounds(ee_polygon_island).filterDate(start_date, end_date).sort('CLOUDY_PIXEL_PERCENTAGE')\n",
    "ic_L8_filtered_island = ic_L8.filterBounds(ee_polygon_island).filterDate(start_date, end_date).sort('CLOUD_COVER')\n",
    "ic_MODIS_filtered_island = ic_MODIS.filterBounds(ee_polygon_island).filterDate(start_date, end_date).sort('CLOUD_COVER')\n",
    "\n",
    "# get the first image from the filtered image collection and crop it to the region of interest (Hyde Park)\n",
    "image_S2_HP = ic_S2_filtered_HP.first().clip(ee_polygon_HP)\n",
    "image_L8_HP = ic_L8_filtered_HP.first().clip(ee_polygon_HP)\n",
    "image_MODIS_HP = ic_MODIS_filtered_HP.first().clip(ee_polygon_HP)\n",
    "\n",
    "# get the first image from the filtered image collection and crop it to the region of interest (island)\n",
    "image_S2_island = ic_S2_filtered_island.first().clip(ee_polygon_island)\n",
    "image_L8_island = ic_L8_filtered_island.first().clip(ee_polygon_island)\n",
    "image_MODIS_island = ic_MODIS_filtered_island.first().clip(ee_polygon_island)\n"
   ]
  },
  {
   "cell_type": "markdown",
   "metadata": {},
   "source": [
    "### Create an interactive map\n",
    "* You might have to adjust the visualisation parameters to see the images properly.\n",
    "* You can display one band or create image composites (more on this in the lectures and the other tutorials).\n",
    "* Here, we will display in the image in RGB for Sentinel and Landsat (bands B4, B3 and B2).\n",
    "* Pay attention to the difference in spatial resolutions!"
   ]
  },
  {
   "cell_type": "code",
   "execution_count": null,
   "metadata": {},
   "outputs": [],
   "source": [
    "# create a map centered at Hyde Park    \n",
    "map = geemap.Map(center=[latitude_HP, longitude_HP], zoom=10)\n",
    "\n",
    "# add Sentinel-2, Landsat-8, and MODIS to the map\n",
    "map.addLayer(image_S2_HP, {'bands': ['B4', 'B3', 'B2']}, 'Sentinel-2')\n",
    "map.addLayer(image_L8_HP, {'bands': ['B4', 'B3', 'B2']}, 'Landsat-8')\n",
    "map.addLayer(image_MODIS_HP, {'bands': ['sur_refl_b01', 'sur_refl_b04', 'sur_refl_b03']}, 'MODIS')\n",
    "\n",
    "# display the map\n",
    "map"
   ]
  },
  {
   "cell_type": "code",
   "execution_count": null,
   "metadata": {},
   "outputs": [],
   "source": [
    "# create a map centered at the island\n",
    "map = geemap.Map(center=[aoi_gdf.lat.values[0], aoi_gdf.lon.values[0]], zoom=15)\n",
    "\n",
    "# add Sentinel-2, Landsat-8, and MODIS to the map\n",
    "map.addLayer(image_S2_island, {'bands': ['B4', 'B3', 'B2']}, 'Sentinel-2')\n",
    "map.addLayer(image_L8_island, {'bands': ['B4', 'B3', 'B2']}, 'Landsat-8')\n",
    "map.addLayer(image_MODIS_island, {'bands': ['sur_refl_b01', 'sur_refl_b04', 'sur_refl_b03']}, 'MODIS')\n",
    "\n",
    "# display the map\n",
    "map"
   ]
  },
  {
   "cell_type": "markdown",
   "metadata": {},
   "source": [
    "### Get metadata\n",
    "* This is very important, especially if you plan to compare multiple images!\n",
    "* The most important metadata for remote sensing is the coordinate reference system (`crs`) and transform matrix (`transform`)."
   ]
  },
  {
   "cell_type": "code",
   "execution_count": null,
   "metadata": {},
   "outputs": [],
   "source": [
    "metadata_image_S2_HP = image_S2_HP.getInfo()\n",
    "print(metadata_image_S2_HP.keys())"
   ]
  },
  {
   "cell_type": "markdown",
   "metadata": {},
   "source": [
    "## Download/export data as `GeoTIFF` files 📂"
   ]
  },
  {
   "cell_type": "markdown",
   "metadata": {},
   "source": [
    "### On `Google Drive`\n",
    "* See https://developers.google.com/earth-engine/tutorials/community/intro-to-python-api#save_a_geotiff_file_in_your_google_drive."
   ]
  },
  {
   "cell_type": "markdown",
   "metadata": {},
   "source": [
    "### On your local drive (indirectly via `requests`)"
   ]
  },
  {
   "cell_type": "code",
   "execution_count": null,
   "metadata": {},
   "outputs": [],
   "source": [
    "def download_from_GEE(image_GEE, satellite:str, scale:int, region:ee.Geometry, region_name:str, crs='EPSG:4326', data_dir:str='data', overwrite_file:bool=False):\n",
    "    \"\"\"\n",
    "    Download an image from Google Earth Engine.\n",
    "    \n",
    "    Parameters:\n",
    "        image (ee.Image): The image to download.\n",
    "        scale (int): The scale of the image.\n",
    "        region (ee.Geometry): The region to download the image.\n",
    "        region_name (str): The name of the region.\n",
    "    \"\"\"\n",
    "    # make sure the directory exists\n",
    "    os.makedirs(data_dir, exist_ok=True)\n",
    "\n",
    "    # get the image as a URL\n",
    "    url_image = image_GEE.getDownloadURL({\n",
    "            'scale': scale,\n",
    "            'crs': crs,\n",
    "            'fileFormat': 'GeoTIFF',\n",
    "            'region': region,\n",
    "            'filePerBand': False\n",
    "    })\n",
    "\n",
    "    # download the ZIP file\n",
    "    temporary_file = os.path.join(data_dir, f'{region_name}.zip')\n",
    "    response = requests.get(url_image)\n",
    "    with open(temporary_file, \"wb\") as file:\n",
    "        file.write(response.content)\n",
    "\n",
    "    # unzip the file\n",
    "    with zipfile.ZipFile(temporary_file, \"r\") as zip_ref:\n",
    "        zip_ref.extractall(data_dir)\n",
    "        extracted_file = zip_ref.namelist()\n",
    "\n",
    "        if len(extracted_file) == 1:\n",
    "            extracted_file = os.path.join(data_dir, extracted_file[0])\n",
    "        \n",
    "        else:\n",
    "            raise ValueError(f\"More than one file was extracted: {extracted_file}\")\n",
    "\n",
    "    # remove the ZIP file\n",
    "    os.remove(temporary_file)\n",
    "\n",
    "    # rename the extracted file\n",
    "    date_image = extracted_file.split(os.sep)[1][:7]\n",
    "    date_image_YYYYMMDD = '{}-{}-{}'.format(date_image[:4], date_image[4:6], date_image[6:])\n",
    "    new_file = os.path.join(data_dir, f'{region_name}_{date_image_YYYYMMDD}_{satellite}.tif')\n",
    "\n",
    "    if os.path.exists(new_file) and overwrite_file:\n",
    "        os.remove(new_file)\n",
    "        os.rename(extracted_file, new_file)\n",
    "    \n",
    "    elif not os.path.exists(new_file):\n",
    "        os.rename(extracted_file, new_file)\n",
    "    \n",
    "    elif os.path.exists(new_file) and not overwrite_file:\n",
    "        os.remove(extracted_file)\n",
    "        return new_file\n",
    "\n",
    "    return new_file"
   ]
  },
  {
   "cell_type": "code",
   "execution_count": null,
   "metadata": {},
   "outputs": [],
   "source": [
    "# Hyde Park\n",
    "tiffile_HP = download_from_GEE(image_GEE=image_S2_HP, \n",
    "                                 satellite='S2', \n",
    "                                 scale=10, \n",
    "                                 region=ee_polygon_HP, \n",
    "                                 region_name='Hyde_Park_London')\n",
    "\n",
    "# Hulhudhoo island, Maldives\n",
    "tiffile_island = download_from_GEE(image_GEE=image_S2_island,\n",
    "                                      satellite='S2',\n",
    "                                      scale=10,\n",
    "                                      region=ee_polygon_island,\n",
    "                                      region_name='Hulhudhoo_Maldives')"
   ]
  },
  {
   "cell_type": "markdown",
   "metadata": {},
   "source": [
    "# Bonus: combining `OpenStreetMap` and `Google Earth Engine` 🙌"
   ]
  },
  {
   "cell_type": "code",
   "execution_count": null,
   "metadata": {},
   "outputs": [],
   "source": [
    "def tiff_to_xarray(tif_file: str):\n",
    "    \"\"\"\n",
    "    Convert a GeoTIFF file to an xarray DataArray with latitude and longitude coordinates.\n",
    "    \n",
    "    Parameters:\n",
    "        tif_file (str): Path to the GeoTIFF file.\n",
    "        \n",
    "    Returns:\n",
    "        xarray.DataArray: The corresponding xarray DataArray with lat/lon coordinates.\n",
    "    \"\"\"\n",
    "    # open the TIFF file using rasterio\n",
    "    with rasterio.open(tif_file) as src:\n",
    "        # read the image data into a numpy array\n",
    "        img_data = src.read()  # (bands, rows, cols)\n",
    "        \n",
    "        # get metadata\n",
    "        transform = src.transform\n",
    "        crs = src.crs\n",
    "        nodata = src.nodata\n",
    "        height, width = src.height, src.width\n",
    "        bands = src.count\n",
    "\n",
    "        # latitude and longitude arrays\n",
    "        lon = np.linspace(transform.c, transform.c + transform.a * (width - 1), width)\n",
    "        lat = np.linspace(transform.f, transform.f + transform.e * (height - 1), height)\n",
    "\n",
    "        # handle single-band images\n",
    "        if bands == 1:\n",
    "            img_data = img_data[0, :, :]  # (rows, cols)\n",
    "\n",
    "        # create an xarray DataArray with lat/lon as dimensions\n",
    "        data_array = xr.DataArray(\n",
    "            img_data,\n",
    "            dims=[\"band\", \"lat\", \"lon\"] if bands > 1 else [\"lat\", \"lon\"],\n",
    "            coords={\n",
    "                \"band\": np.arange(1, bands + 1) if bands > 1 else None,\n",
    "                \"lat\": lat,\n",
    "                \"lon\": lon,\n",
    "            },\n",
    "            attrs={\n",
    "                \"transform\": transform,\n",
    "                \"crs\": crs,\n",
    "                \"nodata\": nodata,\n",
    "            },\n",
    "        )\n",
    "\n",
    "    return data_array"
   ]
  },
  {
   "cell_type": "markdown",
   "metadata": {},
   "source": [
    "## Plot the Serpentine (from `OSM`) on the Hyde Park remote sensing image"
   ]
  },
  {
   "cell_type": "code",
   "execution_count": null,
   "metadata": {},
   "outputs": [],
   "source": [
    "# read tif file and transform into xarray\n",
    "xrx_HP = tiff_to_xarray(tiffile_HP)\n",
    "\n",
    "# extent of the image\n",
    "extent = [xrx_HP.lon.min().item(), xrx_HP.lon.max().item(), xrx_HP.lat.min().item(), xrx_HP.lat.max().item()]\n",
    "\n",
    "# initialise the class\n",
    "calculator = DistanceGridCalculator('Hyde Park, England, UK', crs=4326)\n",
    "\n",
    "# query features: lakes\n",
    "feature_lakes = ox.features_from_place(calculator.roi, tags={'natural': 'water', 'water':'lake'}).to_crs(f'EPSG:{calculator.crs}')\n",
    "\n",
    "# plot\n",
    "fig, ax = plt.subplots(figsize=(10, 10))\n",
    "\n",
    "# plot RGB\n",
    "gdf_rgb = xrx_HP.sel(band=[4, 3, 2]) \n",
    "gdf_rgb.plot.imshow(robust=True, ax=ax)\n",
    "\n",
    "# plot lakes\n",
    "feature_lakes.plot(ax=ax, alpha=0.7, edgecolor='red', facecolor='none')\n",
    "\n",
    "# aesthetics\n",
    "ax.set_xlabel(\"Longitude\")\n",
    "ax.set_ylabel(\"Latitude\")\n",
    "ax.set_xlim(extent[0], extent[1])\n",
    "ax.set_ylim(extent[2], extent[3])\n",
    "\n",
    "plt.show()"
   ]
  },
  {
   "cell_type": "markdown",
   "metadata": {},
   "source": [
    "## Plot the reference coastline (from `OSM`) on the island remote sensing image"
   ]
  },
  {
   "cell_type": "code",
   "execution_count": null,
   "metadata": {},
   "outputs": [],
   "source": [
    "# read tif file and transform into xarray\n",
    "xrx_HP = tiff_to_xarray(tiffile_island)\n",
    "\n",
    "# extent of the image\n",
    "extent = [xrx_HP.lon.min().item(), xrx_HP.lon.max().item(), xrx_HP.lat.min().item(), xrx_HP.lat.max().item()]\n",
    "\n",
    "# initialise the class\n",
    "calculator = DistanceGridCalculator('Hulhudhoo, Maldives', crs=4326)\n",
    "\n",
    "# create meshgrid from image\n",
    "pp = calculator.create_meshgrid_from_image(xrx_HP, scale=10)\n",
    "\n",
    "# query features: reference coastline\n",
    "feature_coastline = ox.features_from_place(calculator.roi, tags={'natural': 'coastline'}).to_crs(f'EPSG:{calculator.crs}')\n",
    "\n",
    "# compute distance grid\n",
    "distance_grid = calculator.compute_distance_grid(pp, feature_coastline, mask=False)\n",
    "\n",
    "# plot\n",
    "fig, (ax1, ax2) = plt.subplots(1, 2, figsize=(20, 10))\n",
    "\n",
    "# plot RGB\n",
    "gdf_rgb = xrx_HP.sel(band=[4, 3, 2]) \n",
    "gdf_rgb.plot.imshow(robust=True, ax=ax1)\n",
    "\n",
    "# plot coastline\n",
    "feature_coastline.plot(ax=ax1, alpha=0.7, edgecolor='red', facecolor='none')\n",
    "\n",
    "# plot distance grid\n",
    "cf = ax2.imshow(distance_grid, cmap='plasma', extent=[extent[0], extent[1], extent[2], extent[3]])\n",
    "\n",
    "# aesthetics\n",
    "ax1.set_xlim(extent[0], extent[1])\n",
    "ax1.set_ylim(extent[2], extent[3])\n",
    "ax1.axis('off') \n",
    "ax2.axis('off')\n",
    "ax1.set_title('Sentinel-2 RGB Image + Reference Coastline from OSM', fontsize=15)\n",
    "ax2.set_title('Distance to Reference Coastline', fontsize=15)\n",
    "\n",
    "plt.show()"
   ]
  },
  {
   "cell_type": "markdown",
   "metadata": {},
   "source": [
    "# Summary 📕\n",
    "* `OpenStreetMap` and `Google Earth Engine` are wonderful open-source tools that you can use in Python and online.\n",
    "* With `Google Earth Engine`, you can do all of your operations on their built-in online platform, in Python using their API (full documentation: https://developers.google.com/earth-engine/api_docs) or by downloading your data from GEE and develop your own tools!\n",
    "* Consider using `OpenStreetMap` to automate your code or to extract valuable features (either for display or e.g. as a machine learning feature)!"
   ]
  }
 ],
 "metadata": {
  "kernelspec": {
   "display_name": "edsml-rs",
   "language": "python",
   "name": "python3"
  },
  "language_info": {
   "codemirror_mode": {
    "name": "ipython",
    "version": 3
   },
   "file_extension": ".py",
   "mimetype": "text/x-python",
   "name": "python",
   "nbconvert_exporter": "python",
   "pygments_lexer": "ipython3",
   "version": "3.10.16"
  }
 },
 "nbformat": 4,
 "nbformat_minor": 2
}
